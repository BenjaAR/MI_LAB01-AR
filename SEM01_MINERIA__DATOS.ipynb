{
  "nbformat": 4,
  "nbformat_minor": 0,
  "metadata": {
    "colab": {
      "provenance": [],
      "authorship_tag": "ABX9TyPbTK15iKzToqbpCFZHQNKe",
      "include_colab_link": true
    },
    "kernelspec": {
      "name": "python3",
      "display_name": "Python 3"
    },
    "language_info": {
      "name": "python"
    }
  },
  "cells": [
    {
      "cell_type": "markdown",
      "metadata": {
        "id": "view-in-github",
        "colab_type": "text"
      },
      "source": [
        "<a href=\"https://colab.research.google.com/github/BenjaAR/MI_LAB01-AR/blob/main/SEM01_MINERIA__DATOS.ipynb\" target=\"_parent\"><img src=\"https://colab.research.google.com/assets/colab-badge.svg\" alt=\"Open In Colab\"/></a>"
      ]
    },
    {
      "cell_type": "code",
      "source": [
        "from google.colab import files\n",
        "import pandas as pd"
      ],
      "metadata": {
        "id": "d-BtV5sxH8_u"
      },
      "execution_count": 1,
      "outputs": []
    },
    {
      "cell_type": "code",
      "source": [
        "from google.colab import drive\n",
        "drive.mount('/content/drive')"
      ],
      "metadata": {
        "colab": {
          "base_uri": "https://localhost:8080/"
        },
        "id": "e-U2OBrlIQNU",
        "outputId": "d6c18aa2-a3b6-4555-bc1d-dbc0df2565d8"
      },
      "execution_count": 2,
      "outputs": [
        {
          "output_type": "stream",
          "name": "stdout",
          "text": [
            "Mounted at /content/drive\n"
          ]
        }
      ]
    },
    {
      "cell_type": "code",
      "source": [
        "df = pd.read_csv('/content/drive/MyDrive/Tecsup/5° Ciclo - 2025 - I/Minería de Datos/SEM01/Base de datos de Ventas.csv')"
      ],
      "metadata": {
        "id": "BG7Yq_YkID8s"
      },
      "execution_count": 3,
      "outputs": []
    },
    {
      "cell_type": "code",
      "source": [
        "print(df.head())"
      ],
      "metadata": {
        "colab": {
          "base_uri": "https://localhost:8080/"
        },
        "id": "B3zKwGgvIhTe",
        "outputId": "14db2a7c-e6e9-4f38-92af-01a7b07998dd"
      },
      "execution_count": 4,
      "outputs": [
        {
          "output_type": "stream",
          "name": "stdout",
          "text": [
            "   Year Month      Customer    Product  Units_Sold  Price_per_Unit  \\\n",
            "0  2019   Jan  Customer 103  Product D          93       22.426305   \n",
            "1  2019   Jan   Customer 72  Product E          21       19.821771   \n",
            "2  2019   Jan  Customer 467  Product C          75       87.286734   \n",
            "3  2019   Jan  Customer 100  Product C          22       10.359100   \n",
            "4  2019   Jan  Customer 344  Product D          30       25.172216   \n",
            "\n",
            "       Revenue  Customer_Name  \n",
            "0  2085.646368   Joshua Moore  \n",
            "1   416.257188  Joseph Wilson  \n",
            "2  6546.505039  Hannah Harris  \n",
            "3   227.900200    Emily Davis  \n",
            "4   755.166465   Rachel Brown  \n"
          ]
        }
      ]
    },
    {
      "cell_type": "code",
      "source": [
        "print(\"Número de registros:\", df.shape[0])"
      ],
      "metadata": {
        "colab": {
          "base_uri": "https://localhost:8080/"
        },
        "id": "bBK3tHmaInES",
        "outputId": "ba73e312-7053-48c2-e0f2-61ed24b9addc"
      },
      "execution_count": 5,
      "outputs": [
        {
          "output_type": "stream",
          "name": "stdout",
          "text": [
            "Número de registros: 4980\n"
          ]
        }
      ]
    },
    {
      "cell_type": "code",
      "source": [
        "print(\"Número de atributos:\", df.shape[1])"
      ],
      "metadata": {
        "colab": {
          "base_uri": "https://localhost:8080/"
        },
        "id": "uDCYKN4lI9Ts",
        "outputId": "b44edb51-342a-4506-9630-372b7ef462b5"
      },
      "execution_count": 6,
      "outputs": [
        {
          "output_type": "stream",
          "name": "stdout",
          "text": [
            "Número de atributos: 8\n"
          ]
        }
      ]
    },
    {
      "cell_type": "code",
      "source": [
        "numerical_cols = df.select_dtypes(include=['number']).columns\n",
        "non_numerical_cols = df.select_dtypes(exclude=['number']).columns"
      ],
      "metadata": {
        "id": "KgHbdnPuJFzU"
      },
      "execution_count": 7,
      "outputs": []
    },
    {
      "cell_type": "code",
      "source": [
        "print(\"Número de variables numéricas:\", len(numerical_cols))\n",
        "print(\"Número de variables no numéricas:\", len(non_numerical_cols))"
      ],
      "metadata": {
        "colab": {
          "base_uri": "https://localhost:8080/"
        },
        "id": "vD5OmhZMJQRV",
        "outputId": "4c8e7ca7-19d0-4c2e-d17a-600401a8e35a"
      },
      "execution_count": 8,
      "outputs": [
        {
          "output_type": "stream",
          "name": "stdout",
          "text": [
            "Número de variables numéricas: 4\n",
            "Número de variables no numéricas: 4\n"
          ]
        }
      ]
    },
    {
      "cell_type": "code",
      "source": [
        "print(\"\\nValores vacíos por columna:\")\n",
        "print(df.isnull().sum())"
      ],
      "metadata": {
        "colab": {
          "base_uri": "https://localhost:8080/"
        },
        "id": "Nn2mZjbWJNlm",
        "outputId": "359d8898-5a2c-414f-8f9d-cce4404da8c7"
      },
      "execution_count": 10,
      "outputs": [
        {
          "output_type": "stream",
          "name": "stdout",
          "text": [
            "\n",
            "Valores vacíos por columna:\n",
            "Year              0\n",
            "Month             0\n",
            "Customer          0\n",
            "Product           0\n",
            "Units_Sold        0\n",
            "Price_per_Unit    0\n",
            "Revenue           0\n",
            "Customer_Name     0\n",
            "dtype: int64\n"
          ]
        }
      ]
    },
    {
      "cell_type": "code",
      "source": [
        "# Calcular estadísticas descriptivas para las variables numéricas\n",
        "print(\"\\nEstadísticas descriptivas para las variables numéricas:\")\n",
        "print(df.describe())"
      ],
      "metadata": {
        "colab": {
          "base_uri": "https://localhost:8080/"
        },
        "id": "Tas023TSJzuq",
        "outputId": "43d09c3c-485f-4cb3-93bf-3cb60822aee1"
      },
      "execution_count": 11,
      "outputs": [
        {
          "output_type": "stream",
          "name": "stdout",
          "text": [
            "\n",
            "Estadísticas descriptivas para las variables numéricas:\n",
            "              Year   Units_Sold  Price_per_Unit      Revenue\n",
            "count  4980.000000  4980.000000     4980.000000  4980.000000\n",
            "mean   2021.000000    49.490161       52.222311  2587.524606\n",
            "std       1.414356    28.583224       27.494928  2184.779178\n",
            "min    2019.000000     1.000000        5.005019    10.076287\n",
            "25%    2020.000000    24.000000       28.795445   799.331333\n",
            "50%    2021.000000    50.000000       52.269208  1969.560283\n",
            "75%    2022.000000    74.000000       75.887524  3889.162621\n",
            "max    2023.000000    99.000000       99.972226  9839.602715\n"
          ]
        }
      ]
    }
  ]
}